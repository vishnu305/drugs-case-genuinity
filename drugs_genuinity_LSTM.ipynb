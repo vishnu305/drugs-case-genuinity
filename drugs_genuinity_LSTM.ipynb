{
 "cells": [
  {
   "cell_type": "code",
   "execution_count": 152,
   "id": "cd668a40",
   "metadata": {},
   "outputs": [],
   "source": [
    "import numpy as np\n",
    "import pandas as pd"
   ]
  },
  {
   "cell_type": "code",
   "execution_count": 153,
   "id": "7d727205",
   "metadata": {},
   "outputs": [],
   "source": [
    "# import nltk\n",
    "# nltk.download('punkt')\n",
    "from tensorflow.keras.preprocessing.text import Tokenizer\n",
    "from tensorflow.keras.preprocessing.sequence import pad_sequences\n",
    "import tensorflow as tf\n",
    "# from nltk.tokenize import word_tokenize"
   ]
  },
  {
   "cell_type": "code",
   "execution_count": 154,
   "id": "f589b972",
   "metadata": {},
   "outputs": [],
   "source": [
    "data=pd.read_csv('drugs1.csv')"
   ]
  },
  {
   "cell_type": "code",
   "execution_count": 155,
   "id": "163253fe",
   "metadata": {},
   "outputs": [
    {
     "data": {
      "text/plain": [
       "key      0\n",
       "class    0\n",
       "dtype: int64"
      ]
     },
     "execution_count": 155,
     "metadata": {},
     "output_type": "execute_result"
    }
   ],
   "source": [
    "data.isnull().sum()"
   ]
  },
  {
   "cell_type": "code",
   "execution_count": 156,
   "id": "94333cff",
   "metadata": {},
   "outputs": [],
   "source": [
    "data = data.sample(frac = 1)"
   ]
  },
  {
   "cell_type": "code",
   "execution_count": 157,
   "id": "530fab05",
   "metadata": {
    "scrolled": true
   },
   "outputs": [
    {
     "data": {
      "text/html": [
       "<div>\n",
       "<style scoped>\n",
       "    .dataframe tbody tr th:only-of-type {\n",
       "        vertical-align: middle;\n",
       "    }\n",
       "\n",
       "    .dataframe tbody tr th {\n",
       "        vertical-align: top;\n",
       "    }\n",
       "\n",
       "    .dataframe thead th {\n",
       "        text-align: right;\n",
       "    }\n",
       "</style>\n",
       "<table border=\"1\" class=\"dataframe\">\n",
       "  <thead>\n",
       "    <tr style=\"text-align: right;\">\n",
       "      <th></th>\n",
       "      <th>key</th>\n",
       "      <th>class</th>\n",
       "    </tr>\n",
       "  </thead>\n",
       "  <tbody>\n",
       "    <tr>\n",
       "      <th>90</th>\n",
       "      <td>street children were seen smoking ganja</td>\n",
       "      <td>1</td>\n",
       "    </tr>\n",
       "    <tr>\n",
       "      <th>39</th>\n",
       "      <td>heroin</td>\n",
       "      <td>1</td>\n",
       "    </tr>\n",
       "    <tr>\n",
       "      <th>38</th>\n",
       "      <td>they were trying to hide away</td>\n",
       "      <td>1</td>\n",
       "    </tr>\n",
       "    <tr>\n",
       "      <th>29</th>\n",
       "      <td>unconscious</td>\n",
       "      <td>1</td>\n",
       "    </tr>\n",
       "    <tr>\n",
       "      <th>64</th>\n",
       "      <td>risky location</td>\n",
       "      <td>1</td>\n",
       "    </tr>\n",
       "    <tr>\n",
       "      <th>154</th>\n",
       "      <td>candid</td>\n",
       "      <td>0</td>\n",
       "    </tr>\n",
       "    <tr>\n",
       "      <th>104</th>\n",
       "      <td>self prescribed medicines</td>\n",
       "      <td>1</td>\n",
       "    </tr>\n",
       "    <tr>\n",
       "      <th>183</th>\n",
       "      <td>clerk</td>\n",
       "      <td>0</td>\n",
       "    </tr>\n",
       "    <tr>\n",
       "      <th>176</th>\n",
       "      <td>force</td>\n",
       "      <td>0</td>\n",
       "    </tr>\n",
       "    <tr>\n",
       "      <th>43</th>\n",
       "      <td>they were fighting</td>\n",
       "      <td>1</td>\n",
       "    </tr>\n",
       "    <tr>\n",
       "      <th>36</th>\n",
       "      <td>they were acting suspicious</td>\n",
       "      <td>1</td>\n",
       "    </tr>\n",
       "    <tr>\n",
       "      <th>150</th>\n",
       "      <td>banal</td>\n",
       "      <td>0</td>\n",
       "    </tr>\n",
       "    <tr>\n",
       "      <th>193</th>\n",
       "      <td>date</td>\n",
       "      <td>0</td>\n",
       "    </tr>\n",
       "    <tr>\n",
       "      <th>147</th>\n",
       "      <td>anachronistic</td>\n",
       "      <td>0</td>\n",
       "    </tr>\n",
       "    <tr>\n",
       "      <th>127</th>\n",
       "      <td>So Ì_ pay first lar... Then when is da stock c...</td>\n",
       "      <td>0</td>\n",
       "    </tr>\n",
       "    <tr>\n",
       "      <th>199</th>\n",
       "      <td>girl</td>\n",
       "      <td>0</td>\n",
       "    </tr>\n",
       "    <tr>\n",
       "      <th>201</th>\n",
       "      <td>ringtone</td>\n",
       "      <td>0</td>\n",
       "    </tr>\n",
       "    <tr>\n",
       "      <th>47</th>\n",
       "      <td>illicit cultivation</td>\n",
       "      <td>1</td>\n",
       "    </tr>\n",
       "    <tr>\n",
       "      <th>81</th>\n",
       "      <td>contract killings</td>\n",
       "      <td>1</td>\n",
       "    </tr>\n",
       "    <tr>\n",
       "      <th>75</th>\n",
       "      <td>he was abusing after consuming drugs</td>\n",
       "      <td>1</td>\n",
       "    </tr>\n",
       "  </tbody>\n",
       "</table>\n",
       "</div>"
      ],
      "text/plain": [
       "                                                   key  class\n",
       "90             street children were seen smoking ganja      1\n",
       "39                                              heroin      1\n",
       "38                       they were trying to hide away      1\n",
       "29                                         unconscious      1\n",
       "64                                      risky location      1\n",
       "154                                             candid      0\n",
       "104                          self prescribed medicines      1\n",
       "183                                              clerk      0\n",
       "176                                              force      0\n",
       "43                                  they were fighting      1\n",
       "36                         they were acting suspicious      1\n",
       "150                                              banal      0\n",
       "193                                               date      0\n",
       "147                                      anachronistic      0\n",
       "127  So Ì_ pay first lar... Then when is da stock c...      0\n",
       "199                                               girl      0\n",
       "201                                           ringtone      0\n",
       "47                                 illicit cultivation      1\n",
       "81                                   contract killings      1\n",
       "75                he was abusing after consuming drugs      1"
      ]
     },
     "execution_count": 157,
     "metadata": {},
     "output_type": "execute_result"
    }
   ],
   "source": [
    "data.head(20)"
   ]
  },
  {
   "cell_type": "code",
   "execution_count": 158,
   "id": "c8e28fb3",
   "metadata": {},
   "outputs": [],
   "source": [
    "train_size = int(data.shape[0]*0.9)\n",
    "X_train = data['key'][:train_size]\n",
    "y_train = data['class'][:train_size]\n",
    "X_test = data['key'][train_size:]\n",
    "y_test = data['class'][train_size:]"
   ]
  },
  {
   "cell_type": "code",
   "execution_count": 159,
   "id": "10502955",
   "metadata": {},
   "outputs": [],
   "source": [
    "vocab_size = 1000\n",
    "max_length = 70\n",
    "embedding_dim = 16"
   ]
  },
  {
   "cell_type": "code",
   "execution_count": 160,
   "id": "29f58e42",
   "metadata": {},
   "outputs": [],
   "source": [
    "tokenizer = Tokenizer(num_words=vocab_size,oov_token=\"<OOV>\")\n",
    "\n",
    "tokenizer.fit_on_texts(X_train)\n",
    "word_index = tokenizer.word_index\n",
    "# Generate and pad the training sequences\n",
    "training_sequences = tokenizer.texts_to_sequences(X_train)\n",
    "training_padded = pad_sequences(training_sequences,maxlen=max_length, truncating='post')\n",
    "\n",
    "# Generate and pad the test sequences\n",
    "testing_sequences = tokenizer.texts_to_sequences(X_test)\n",
    "testing_padded = pad_sequences(testing_sequences,maxlen=max_length,truncating='post')"
   ]
  },
  {
   "cell_type": "code",
   "execution_count": 161,
   "id": "82ad1175",
   "metadata": {},
   "outputs": [
    {
     "data": {
      "text/plain": [
       "(189, 70)"
      ]
     },
     "execution_count": 161,
     "metadata": {},
     "output_type": "execute_result"
    }
   ],
   "source": [
    "training_padded.shape"
   ]
  },
  {
   "cell_type": "code",
   "execution_count": 162,
   "id": "fad1850e",
   "metadata": {},
   "outputs": [
    {
     "data": {
      "text/plain": [
       "(22, 70)"
      ]
     },
     "execution_count": 162,
     "metadata": {},
     "output_type": "execute_result"
    }
   ],
   "source": [
    "testing_padded.shape"
   ]
  },
  {
   "cell_type": "markdown",
   "id": "f9493f0a",
   "metadata": {},
   "source": [
    "# Neural network for binary classification using LSTM"
   ]
  },
  {
   "cell_type": "code",
   "execution_count": 163,
   "id": "32d2a75d",
   "metadata": {},
   "outputs": [
    {
     "name": "stdout",
     "output_type": "stream",
     "text": [
      "Model: \"sequential_5\"\n",
      "_________________________________________________________________\n",
      " Layer (type)                Output Shape              Param #   \n",
      "=================================================================\n",
      " embedding_5 (Embedding)     (None, 70, 16)            16000     \n",
      "                                                                 \n",
      " bidirectional_10 (Bidirecti  (None, 70, 128)          41472     \n",
      " onal)                                                           \n",
      "                                                                 \n",
      " bidirectional_11 (Bidirecti  (None, 64)               41216     \n",
      " onal)                                                           \n",
      "                                                                 \n",
      " dense_10 (Dense)            (None, 64)                4160      \n",
      "                                                                 \n",
      " dense_11 (Dense)            (None, 1)                 65        \n",
      "                                                                 \n",
      "=================================================================\n",
      "Total params: 102,913\n",
      "Trainable params: 102,913\n",
      "Non-trainable params: 0\n",
      "_________________________________________________________________\n"
     ]
    }
   ],
   "source": [
    "# Build the model\n",
    "model = tf.keras.Sequential([\n",
    "    tf.keras.layers.Embedding(vocab_size,embedding_dim, input_length=max_length),\n",
    "    tf.keras.layers.Bidirectional(tf.keras.layers.LSTM(64,return_sequences=True)),\n",
    "    tf.keras.layers.Bidirectional(tf.keras.layers.LSTM(32)),\n",
    "    tf.keras.layers.Dense(64, activation='relu'),\n",
    "    tf.keras.layers.Dense(1, activation='sigmoid')\n",
    "])\n",
    "\n",
    "# Setup the training parameters\n",
    "model.compile(loss='binary_crossentropy',optimizer='adam',metrics=['accuracy'])\n",
    "\n",
    "# Print the model summary\n",
    "model.summary()"
   ]
  },
  {
   "cell_type": "code",
   "execution_count": 164,
   "id": "53e392bb",
   "metadata": {
    "scrolled": true
   },
   "outputs": [
    {
     "name": "stdout",
     "output_type": "stream",
     "text": [
      "Epoch 1/20\n",
      "6/6 [==============================] - 5s 272ms/step - loss: 0.6956 - accuracy: 0.4974 - val_loss: 0.6921 - val_accuracy: 0.5455\n",
      "Epoch 2/20\n",
      "6/6 [==============================] - 0s 44ms/step - loss: 0.6933 - accuracy: 0.4868 - val_loss: 0.6933 - val_accuracy: 0.3182\n",
      "Epoch 3/20\n",
      "6/6 [==============================] - 0s 47ms/step - loss: 0.6936 - accuracy: 0.5026 - val_loss: 0.6944 - val_accuracy: 0.4545\n",
      "Epoch 4/20\n",
      "6/6 [==============================] - 0s 40ms/step - loss: 0.6909 - accuracy: 0.5979 - val_loss: 0.6930 - val_accuracy: 0.4091\n",
      "Epoch 5/20\n",
      "6/6 [==============================] - 0s 44ms/step - loss: 0.6887 - accuracy: 0.6614 - val_loss: 0.6917 - val_accuracy: 0.5000\n",
      "Epoch 6/20\n",
      "6/6 [==============================] - 0s 36ms/step - loss: 0.6836 - accuracy: 0.6878 - val_loss: 0.6893 - val_accuracy: 0.5000\n",
      "Epoch 7/20\n",
      "6/6 [==============================] - 0s 47ms/step - loss: 0.6704 - accuracy: 0.7460 - val_loss: 0.6828 - val_accuracy: 0.6364\n",
      "Epoch 8/20\n",
      "6/6 [==============================] - 0s 35ms/step - loss: 0.6294 - accuracy: 0.8307 - val_loss: 0.6669 - val_accuracy: 0.5909\n",
      "Epoch 9/20\n",
      "6/6 [==============================] - 0s 37ms/step - loss: 0.4906 - accuracy: 0.7831 - val_loss: 0.5644 - val_accuracy: 0.6818\n",
      "Epoch 10/20\n",
      "6/6 [==============================] - 0s 37ms/step - loss: 0.2541 - accuracy: 0.9365 - val_loss: 0.4937 - val_accuracy: 0.7727\n",
      "Epoch 11/20\n",
      "6/6 [==============================] - 0s 37ms/step - loss: 0.1134 - accuracy: 0.9683 - val_loss: 0.5660 - val_accuracy: 0.8182\n",
      "Epoch 12/20\n",
      "6/6 [==============================] - 0s 35ms/step - loss: 0.0210 - accuracy: 1.0000 - val_loss: 0.6971 - val_accuracy: 0.8182\n",
      "Epoch 13/20\n",
      "6/6 [==============================] - 0s 37ms/step - loss: 0.0049 - accuracy: 1.0000 - val_loss: 1.0489 - val_accuracy: 0.8182\n",
      "Epoch 14/20\n",
      "6/6 [==============================] - 0s 36ms/step - loss: 0.0024 - accuracy: 1.0000 - val_loss: 1.1458 - val_accuracy: 0.8182\n",
      "Epoch 15/20\n",
      "6/6 [==============================] - 0s 35ms/step - loss: 0.0012 - accuracy: 1.0000 - val_loss: 1.1744 - val_accuracy: 0.8182\n",
      "Epoch 16/20\n",
      "6/6 [==============================] - 0s 37ms/step - loss: 9.2836e-04 - accuracy: 1.0000 - val_loss: 1.2095 - val_accuracy: 0.8182\n",
      "Epoch 17/20\n",
      "6/6 [==============================] - 0s 40ms/step - loss: 6.9866e-04 - accuracy: 1.0000 - val_loss: 1.2595 - val_accuracy: 0.8182\n",
      "Epoch 18/20\n",
      "6/6 [==============================] - 0s 44ms/step - loss: 5.4053e-04 - accuracy: 1.0000 - val_loss: 1.3095 - val_accuracy: 0.8182\n",
      "Epoch 19/20\n",
      "6/6 [==============================] - 0s 39ms/step - loss: 4.3099e-04 - accuracy: 1.0000 - val_loss: 1.3566 - val_accuracy: 0.8182\n",
      "Epoch 20/20\n",
      "6/6 [==============================] - 0s 42ms/step - loss: 3.5490e-04 - accuracy: 1.0000 - val_loss: 1.3995 - val_accuracy: 0.8182\n"
     ]
    }
   ],
   "source": [
    "NUM_EPOCHS = 20\n",
    "\n",
    "# Train the model\n",
    "history = model.fit(training_padded,y_train, epochs=NUM_EPOCHS, validation_data=(testing_padded,y_test))"
   ]
  },
  {
   "cell_type": "code",
   "execution_count": 165,
   "id": "48936d9e",
   "metadata": {},
   "outputs": [
    {
     "data": {
      "image/png": "[encoded data removed]",
      "text/plain": [
       "<Figure size 432x288 with 1 Axes>"
      ]
     },
     "metadata": {
      "needs_background": "light"
     },
     "output_type": "display_data"
    },
    {
     "data": {
      "image/png": "[encoded data removed]",
      "text/plain": [
       "<Figure size 432x288 with 1 Axes>"
      ]
     },
     "metadata": {
      "needs_background": "light"
     },
     "output_type": "display_data"
    }
   ],
   "source": [
    "import matplotlib.pyplot as plt\n",
    "\n",
    "# Plot utility\n",
    "def plot_graphs(history, string):\n",
    "  plt.plot(history.history[string])\n",
    "  plt.plot(history.history['val_'+string])\n",
    "  plt.xlabel(\"Epochs\")\n",
    "  plt.ylabel(string)\n",
    "  plt.legend([string, 'val_'+string])\n",
    "  plt.show()\n",
    "\n",
    "# Plot the accuracy and results \n",
    "plot_graphs(history, \"accuracy\")\n",
    "plot_graphs(history, \"loss\")"
   ]
  },
  {
   "cell_type": "code",
   "execution_count": 166,
   "id": "d00b48c4",
   "metadata": {},
   "outputs": [
    {
     "name": "stdout",
     "output_type": "stream",
     "text": [
      "[[0.9996106]]\n",
      "It is a Genuine Reason\n"
     ]
    }
   ],
   "source": [
    "text4 = \"Here in lucknow narcotic and steroids drugs are being trafficked in gomti nagar\"\n",
    "data4 = [text4]\n",
    "data4=tokenizer.texts_to_sequences(data4)\n",
    "data4=pad_sequences(data4,maxlen=max_length,truncating='post')\n",
    "prediction4 = model.predict(data4)\n",
    "print(prediction4)\n",
    "if prediction4 > 0.5: #threshold value for sigmoid activation\n",
    "    print(\"It is a Genuine Reason\")\n",
    "else:\n",
    "    print(\"It is Not a Genuine Reason\")"
   ]
  },
  {
   "cell_type": "code",
   "execution_count": 167,
   "id": "8856f855",
   "metadata": {},
   "outputs": [
    {
     "name": "stdout",
     "output_type": "stream",
     "text": [
      "[[0.00035964]]\n",
      "It is Not a Genuine Reason\n"
     ]
    }
   ],
   "source": [
    "text4 = \"afrin muskan kailash ritik vishnu\"\n",
    "data4 = [text4]\n",
    "data4=tokenizer.texts_to_sequences(data4)\n",
    "data4=pad_sequences(data4,maxlen=max_length,truncating='post')\n",
    "prediction4 = model.predict(data4)\n",
    "print(prediction4)\n",
    "if prediction4 > 0.5: #threshold value for sigmoid activation\n",
    "    print(\"It is a Genuine Reason\")\n",
    "else:\n",
    "    print(\"It is Not a Genuine Reason\")"
   ]
  },
  {
   "cell_type": "code",
   "execution_count": 168,
   "id": "0db4a092",
   "metadata": {},
   "outputs": [
    {
     "name": "stdout",
     "output_type": "stream",
     "text": [
      "[[0.00044205]]\n",
      "It is Not a Genuine Reason\n"
     ]
    }
   ],
   "source": [
    "text4 = \"you won 100rs in the game\"\n",
    "data4 = [text4]\n",
    "data4=tokenizer.texts_to_sequences(data4)\n",
    "data4=pad_sequences(data4,maxlen=max_length,truncating='post')\n",
    "prediction4 = model.predict(data4)\n",
    "print(prediction4)\n",
    "if prediction4 > 0.5: #threshold value for sigmoid activation\n",
    "    print(\"It is a Genuine Reason\")\n",
    "else:\n",
    "    print(\"It is Not a Genuine Reason\")"
   ]
  },
  {
   "cell_type": "code",
   "execution_count": 169,
   "id": "6369576f",
   "metadata": {},
   "outputs": [
    {
     "name": "stdout",
     "output_type": "stream",
     "text": [
      "[[0.0003037]]\n",
      "It is Not a Genuine Reason\n"
     ]
    }
   ],
   "source": [
    "text2 = \"In Gorakhpur the students are taking the very addictive drugs to win the sports events very easily for there college\"\n",
    "data2 = [text2]\n",
    "data2=tokenizer.texts_to_sequences(data2)\n",
    "data2=pad_sequences(data2,maxlen=max_length,truncating='post')\n",
    "prediction2 = model.predict(data2)\n",
    "print(prediction2)\n",
    "if prediction2 > 0.5: #threshold value for sigmoid activation\n",
    "    print(\"It is a Genuine Reason\")\n",
    "else:\n",
    "    print(\"It is Not a Genuine Reason\")"
   ]
  },
  {
   "cell_type": "code",
   "execution_count": 170,
   "id": "ac2efe02",
   "metadata": {},
   "outputs": [
    {
     "name": "stdout",
     "output_type": "stream",
     "text": [
      "[[0.00026493]]\n",
      "It is Not a Genuine Reason\n"
     ]
    }
   ],
   "source": [
    "text2 = \"I've been searching for the right words to thank you for this breathe\"\n",
    "data2 = [text2]\n",
    "data2=tokenizer.texts_to_sequences(data2)\n",
    "data2=pad_sequences(data2,maxlen=max_length,truncating='post')\n",
    "prediction2 = model.predict(data2)\n",
    "print(prediction2)\n",
    "if prediction2 > 0.5: #threshold value for sigmoid activation\n",
    "    print(\"It is a Genuine Reason\")\n",
    "else:\n",
    "    print(\"It is Not a Genuine Reason\")"
   ]
  },
  {
   "cell_type": "markdown",
   "id": "4fc955f0",
   "metadata": {},
   "source": [
    "# Random Forest classifier"
   ]
  },
  {
   "cell_type": "code",
   "execution_count": 171,
   "id": "67e0beec",
   "metadata": {},
   "outputs": [],
   "source": [
    "from sklearn.feature_extraction.text import CountVectorizer\n",
    "from sklearn.model_selection import train_test_split"
   ]
  },
  {
   "cell_type": "code",
   "execution_count": 172,
   "id": "d969b227",
   "metadata": {},
   "outputs": [],
   "source": [
    "x=data['key']\n",
    "y=data['class']\n",
    "cv=CountVectorizer()\n",
    "x = cv.fit_transform(x)"
   ]
  },
  {
   "cell_type": "code",
   "execution_count": 173,
   "id": "1766de5b",
   "metadata": {},
   "outputs": [],
   "source": [
    "x_train, x_test, y_train, y_test = train_test_split(x.toarray(), y, test_size=0.12, random_state=42)"
   ]
  },
  {
   "cell_type": "code",
   "execution_count": 174,
   "id": "58db8f0a",
   "metadata": {},
   "outputs": [
    {
     "data": {
      "text/plain": [
       "RandomForestClassifier()"
      ]
     },
     "execution_count": 174,
     "metadata": {},
     "output_type": "execute_result"
    }
   ],
   "source": [
    "from sklearn.ensemble import RandomForestClassifier\n",
    "model2 = RandomForestClassifier(n_estimators = 100)\n",
    "model2.fit(x_train,y_train)"
   ]
  },
  {
   "cell_type": "code",
   "execution_count": 175,
   "id": "6d6ae61a",
   "metadata": {},
   "outputs": [
    {
     "name": "stdout",
     "output_type": "stream",
     "text": [
      "The score for Random Forest classifier model over the given data is  84.61538461538461\n"
     ]
    }
   ],
   "source": [
    "print(\"The score for Random Forest classifier model over the given data is \",model2.score(x_test,y_test)*100)"
   ]
  },
  {
   "cell_type": "code",
   "execution_count": 176,
   "id": "71c8a536",
   "metadata": {},
   "outputs": [
    {
     "name": "stdout",
     "output_type": "stream",
     "text": [
      "It is a Genuine Reason with  76.0 % probabulity\n"
     ]
    }
   ],
   "source": [
    "text2 = \"In Gorakhpur the students are taking the very addictive drugs to win the sports events very easily for there college\"\n",
    "data2 = [text2]\n",
    "data2=cv.transform(data2).toarray()\n",
    "prediction2 = model2.predict(data2)\n",
    "predict_score2=model2.predict_proba(data2)\n",
    "if prediction2[0] == 1:\n",
    "    print(\"It is a Genuine Reason with \",predict_score2[0][1]*100,\"% probabulity\")\n",
    "else:\n",
    "    print(\"It is Not a Genuine Reason with \",predict_score2[0][0]*100,\"% proabulity\")"
   ]
  },
  {
   "cell_type": "code",
   "execution_count": 177,
   "id": "8d6183e8",
   "metadata": {},
   "outputs": [
    {
     "name": "stdout",
     "output_type": "stream",
     "text": [
      "It is a Genuine Reason with  93.0 % probabulity\n"
     ]
    }
   ],
   "source": [
    "text2 = \"Here in lucknow narcotic and steroids drugs are being trafficked in gomti nagar\"\n",
    "data2 = [text2]\n",
    "data2=cv.transform(data2).toarray()\n",
    "prediction2 = model2.predict(data2)\n",
    "predict_score2=model2.predict_proba(data2)\n",
    "if prediction2[0] == 1:\n",
    "    print(\"It is a Genuine Reason with \",predict_score2[0][1]*100,\"% probabulity\")\n",
    "else:\n",
    "    print(\"It is Not a Genuine Reason with \",predict_score2[0][0]*100,\"% proabulity\")"
   ]
  },
  {
   "cell_type": "code",
   "execution_count": 178,
   "id": "75c147af",
   "metadata": {},
   "outputs": [
    {
     "name": "stdout",
     "output_type": "stream",
     "text": [
      "It is Not a Genuine Reason with  91.0 % proabulity\n"
     ]
    }
   ],
   "source": [
    "text2 = \"afrin muskan kailash ritik vishnu\"\n",
    "data2 = [text2]\n",
    "data2=cv.transform(data2).toarray()\n",
    "prediction2 = model2.predict(data2)\n",
    "predict_score2=model2.predict_proba(data2)\n",
    "if prediction2[0] == 1:\n",
    "    print(\"It is a Genuine Reason with \",predict_score2[0][1]*100,\"% probabulity\")\n",
    "else:\n",
    "    print(\"It is Not a Genuine Reason with \",predict_score2[0][0]*100,\"% proabulity\")"
   ]
  },
  {
   "cell_type": "code",
   "execution_count": 179,
   "id": "2cb38a80",
   "metadata": {},
   "outputs": [
    {
     "name": "stdout",
     "output_type": "stream",
     "text": [
      "It is Not a Genuine Reason with  88.0 % proabulity\n"
     ]
    }
   ],
   "source": [
    "text2 = \"I've been searching for the right words to thank you for this breathe\"\n",
    "data2 = [text2]\n",
    "data2=cv.transform(data2).toarray()\n",
    "prediction2 = model2.predict(data2)\n",
    "predict_score2=model2.predict_proba(data2)\n",
    "if prediction2[0] == 1:\n",
    "    print(\"It is a Genuine Reason with \",predict_score2[0][1]*100,\"% probabulity\")\n",
    "else:\n",
    "    print(\"It is Not a Genuine Reason with \",predict_score2[0][0]*100,\"% proabulity\")"
   ]
  },
  {
   "cell_type": "code",
   "execution_count": null,
   "id": "333d7c91",
   "metadata": {},
   "outputs": [],
   "source": []
  }
 ],
 "metadata": {
  "kernelspec": {
   "display_name": "Python 3 (ipykernel)",
   "language": "python",
   "name": "python3"
  },
  "language_info": {
   "codemirror_mode": {
    "name": "ipython",
    "version": 3
   },
   "file_extension": ".py",
   "mimetype": "text/x-python",
   "name": "python",
   "nbconvert_exporter": "python",
   "pygments_lexer": "ipython3",
   "version": "3.9.7"
  }
 },
 "nbformat": 4,
 "nbformat_minor": 5
}
